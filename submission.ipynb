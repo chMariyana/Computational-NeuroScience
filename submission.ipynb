{
  "nbformat": 4,
  "nbformat_minor": 0,
  "metadata": {
    "colab": {
      "name": "submission.ipynb",
      "provenance": [],
      "collapsed_sections": [],
      "include_colab_link": true
    },
    "kernelspec": {
      "name": "python3",
      "display_name": "Python 3"
    },
    "language_info": {
      "name": "python"
    }
  },
  "cells": [
    {
      "cell_type": "markdown",
      "metadata": {
        "id": "view-in-github",
        "colab_type": "text"
      },
      "source": [
        "<a href=\"https://colab.research.google.com/github/chMariyana/Computational-NeuroScience/blob/master/submission.ipynb\" target=\"_parent\"><img src=\"https://colab.research.google.com/assets/colab-badge.svg\" alt=\"Open In Colab\"/></a>"
      ]
    },
    {
      "cell_type": "code",
      "metadata": {
        "id": "oR3e4g1xmboV"
      },
      "source": [
        "import numpy as np\n",
        "import os\n",
        "\n",
        "def estimate_rf(st,sp,num_window):\n",
        "    STA2 = np.zeros( st.shape[0], st.shape[1], (sum(sp)))\n",
        "\n",
        "    padded_stim = np.zeros((st.shape[0], st.shape[1], st.shape[2] + num_window))\n",
        "    padded_stim[:,:,num_window:]=st\n",
        "    stim_inds = np.where(spikes==1)-num_window\n",
        "    stim_inds_end = np.where(spikes==1)+1\n",
        "    for i in range(sum(sp)):\n",
        "      STA2[:,:,i] = padded_stim[:,:,stim_inds[i]:stim_inds_end[i]]\n",
        "    rf = np.mean(STA2, axis=2)\n",
        "\n",
        "\n",
        "    return rf"
      ],
      "execution_count": null,
      "outputs": []
    },
    {
      "cell_type": "code",
      "metadata": {
        "id": "Hp8wSpXyON2R"
      },
      "source": [
        "def estimate_nl(st, sp, rf, K):\n",
        "  \n",
        "..."
      ],
      "execution_count": null,
      "outputs": []
    },
    {
      "cell_type": "code",
      "metadata": {
        "id": "F_pI1rAiixD6"
      },
      "source": [
        "\n",
        "def generate_spikes(N,rate,duration):\n",
        "  p = rate/1000\n",
        " \n",
        "  spikes = np.random.choice([1, 0], size=(N,duration), p=[p, 1-p])\n",
        " \n",
        "      \n",
        "  return spikes "
      ],
      "execution_count": null,
      "outputs": []
    },
    {
      "cell_type": "code",
      "metadata": {
        "id": "5HhGXyQOoDpq"
      },
      "source": [
        "def mle_fr(spikes):\n",
        "  means = np.mean(spikes, axis=1)\n",
        "  rate = np.mean(means)\n",
        "  return rate*1000\n"
      ],
      "execution_count": null,
      "outputs": []
    }
  ]
}